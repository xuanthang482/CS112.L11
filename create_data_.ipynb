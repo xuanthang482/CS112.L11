{
  "nbformat": 4,
  "nbformat_minor": 0,
  "metadata": {
    "colab": {
      "name": "create_data_.ipynb",
      "provenance": [],
      "authorship_tag": "ABX9TyNWQFl3XULbulJ99DrC443+",
      "include_colab_link": true
    },
    "kernelspec": {
      "name": "python3",
      "display_name": "Python 3"
    }
  },
  "cells": [
    {
      "cell_type": "markdown",
      "metadata": {
        "id": "view-in-github",
        "colab_type": "text"
      },
      "source": [
        "<a href=\"https://colab.research.google.com/github/xuanthang482/CS112.L11/blob/main/create_data_.ipynb\" target=\"_parent\"><img src=\"https://colab.research.google.com/assets/colab-badge.svg\" alt=\"Open In Colab\"/></a>"
      ]
    },
    {
      "cell_type": "code",
      "metadata": {
        "id": "1NTG7nYgR-Cj"
      },
      "source": [
        "import random\n",
        "import pandas as pd\n",
        "from __future__ import division, print_function, unicode_literals\n",
        "import numpy as np \n",
        "import matplotlib.pyplot as plt"
      ],
      "execution_count": 2,
      "outputs": []
    },
    {
      "cell_type": "code",
      "metadata": {
        "id": "wY8jh5gpSKwj"
      },
      "source": [
        "def liner_sort(A):\n",
        "  count = 1 #Khởi tạo i\n",
        "  for i in range(len(A)-1):\n",
        "    count += 2 # < len(A)-1\n",
        "    count += 2 # j = i+1\n",
        "    for j in range(i+1,len(A)):\n",
        "      count += 2 # < len(A)-2\n",
        "      count += 1 # a[j]>a[i]\n",
        "      if A[i]>A[j]: \n",
        "        count += 3\n",
        "        A[i],A[j] = A[j], A[i]\n",
        "      count += 1 # j++\n",
        "    count +=2 # < len(A)-2\n",
        "    count += 1 # i++\n",
        "  count += 2 # < len(A)-1\n",
        "  return count"
      ],
      "execution_count": 3,
      "outputs": []
    },
    {
      "cell_type": "code",
      "metadata": {
        "id": "Jk7-x_AESOnK"
      },
      "source": [
        "def create_random_lish(n):  \n",
        "  randomlist = []\n",
        "  for i in range(0,n):\n",
        "    n = random.randint(1,400000)\n",
        "    randomlist.append(n)\n",
        "  return randomlist"
      ],
      "execution_count": 4,
      "outputs": []
    },
    {
      "cell_type": "code",
      "metadata": {
        "id": "ccc43Z8lSPkT"
      },
      "source": [
        "def powerloop(mn,mx,step):\n",
        "    while mn < mx:\n",
        "        yield mn\n",
        "        mn = int(mn*step)\n",
        "        "
      ],
      "execution_count": 5,
      "outputs": []
    },
    {
      "cell_type": "code",
      "metadata": {
        "id": "fNq54RlDTVis"
      },
      "source": [
        "sizes = []\n",
        "operations = []\n",
        "for i in powerloop(101, 100000, 1.1):\n",
        "  a = create_random_lish(i) \n",
        "  count = liner_sort(a)\n",
        "  sizes.append(len(a))\n",
        "  operations.append(count)\n",
        "  print(len(a))"
      ],
      "execution_count": null,
      "outputs": []
    },
    {
      "cell_type": "code",
      "metadata": {
        "id": "6TSfdiD6SrTv"
      },
      "source": [
        "data = {'size': sizes,\n",
        "        'operations': operations}\n",
        "df = pd.DataFrame(data)         "
      ],
      "execution_count": 8,
      "outputs": []
    },
    {
      "cell_type": "code",
      "metadata": {
        "id": "UjdSJ8qsSsyH"
      },
      "source": [
        "compression_opts = dict(method='zip',\n",
        "                        archive_name='out.csv')  \n",
        "df.to_csv('data.zip', index=False,\n",
        "          compression=compression_opts)  "
      ],
      "execution_count": 9,
      "outputs": []
    }
  ]
}